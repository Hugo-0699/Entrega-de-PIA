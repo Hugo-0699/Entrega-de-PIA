{
  "nbformat": 4,
  "nbformat_minor": 0,
  "metadata": {
    "colab": {
      "provenance": [],
      "authorship_tag": "ABX9TyMSgWOVCRki3Wx5Q6zJlvGg",
      "include_colab_link": true
    },
    "kernelspec": {
      "name": "python3",
      "display_name": "Python 3"
    },
    "language_info": {
      "name": "python"
    }
  },
  "cells": [
    {
      "cell_type": "markdown",
      "metadata": {
        "id": "view-in-github",
        "colab_type": "text"
      },
      "source": [
        "<a href=\"https://colab.research.google.com/github/Hugo-0699/Entrega-de-PIA/blob/main/TP1/01_PIA_Caso_uso.ipynb\" target=\"_parent\"><img src=\"https://colab.research.google.com/assets/colab-badge.svg\" alt=\"Open In Colab\"/></a>"
      ]
    },
    {
      "cell_type": "markdown",
      "source": [
        "#Universidad Autonoma de Nuevo León\n",
        "##Facultad de Contaduria Publica y Administración\n",
        "###Carrera: Licenciado en Tecnologías de Información\n",
        "###UA: Introducción a la Programación\n",
        "######Profesor: Jose Felipe Ramírez Ramírez\n",
        "######Producto Integrador de Aprendizaje: Caso práctico \"MIGRACIÓN AUSTRALIANA\"\n",
        "######Grupo: 012\n",
        "|Nombre de los integrantes| |Matricula|\n",
        "|---| |---|\n",
        "|Gómez Ramos Devany Esmeralda|\t|2100487|\n",
        "|Hernández Castro Alejandro|\t|2051394|\n",
        "|Lucio Lucio Jocelin Samantha| |2180028|\n",
        "|Ojeda Hernández Ilse Guadalupe|\t|1928677|\n",
        "|Zapata Rosales Hugo Alejandro| |2088379|\n",
        "\n",
        "Fecha de elaboración:  14/11/23 - 20/11/23"
      ],
      "metadata": {
        "id": "CJePtA5YDICn"
      }
    },
    {
      "cell_type": "markdown",
      "source": [
        "#Tabla de variables y datos"
      ],
      "metadata": {
        "id": "ewx12jp2MhU8"
      }
    },
    {
      "cell_type": "markdown",
      "source": [
        "|Dato|Datatype|Origen|Variable|Fórmula|\n",
        "|---|---|---|---|---|\n",
        "|Puntaje total de la familia|int|Se calcula|puntaje_total|puntaje_total += calcular_puntaje(35, fecha_nacimiento_progenitor1)|\n",
        "|Familia|str|Se pregunta|tipo_familia||\n",
        "|Sexo del primer progenitor|str|Se pregunta|sexo_progenitor1||\n",
        "|Fecha de nacimiento del primer progenitor|str|Se pregunta|fecha_nacimiento_progenitor1|\n",
        "|Grado académico del primer progenitor|str|Se pregunta|grado_academico_progenitor1|\n",
        "|Oficios deseados del primer progenitor|str|Se pregunta|tiene_oficio_progenitor1|\n",
        "|Sexo del segundo progenitor|str|Se pregunta|sexo_progenitor2|\n",
        "|Fecha de nacimiento del segundo progenitor|str|Se pregunta|fecha_nacimiento_progenitor2|\n",
        "|Grado académico del segundo progenitor|str|Se pregunta|grado_academico_progenitor2||\n",
        "|Oficios deseados del segundo progenitor|str|Se pregunta|tiene_oficio_progenitor2|\n",
        "|Cantidad de hijos|int|Se pregunta|cantidad_hijos||\n",
        "|Sexo del hijo|str|Se pregunta|sexo_hijo||\n",
        "|Fecha de nacimiento del hijo|str|Se pregunta|fecha_nacimiento_hijo"
      ],
      "metadata": {
        "id": "kEcvC2reMn3I"
      }
    },
    {
      "cell_type": "markdown",
      "source": [
        "#Código en Python"
      ],
      "metadata": {
        "id": "Ekd0W8lyG6Sr"
      }
    },
    {
      "cell_type": "markdown",
      "source": [
        "##Programa de caso de uso:\n",
        "El Instituto de Migración de Australia tiene un algoritmo de calificación de familias que solicitan la residencia, en caso de que toda la familia decida migrar. No es sorpresa que el puntaje de las familias esté en función de la probabilidad de contribuir con el aumento demográfico de la nación, y con los oficios que tienen mucha demanda y poca oferta.\n",
        "\n",
        "La aplicación pregunta primero si la familia es monoparental (un solo padre) o biparental (ambos padres). Dependiendo de la respuesta, preguntará los datos de los padres; si es monoparental solo pregunta los datos del único progenitor; si es biparental, pregunta los datos de ambos progenitores.\n",
        "\n",
        "Los datos que se preguntan de los progenitores son: Sexo (M: Masculino; F: Femenino; N: No binario). Se pregunta la fecha de nacimiento. Se pregunta el grado académico (P: Postgraduado; U: Universitario; T: Técnico; N: Ninguno). Se pregunta si tiene alguno de los 10 oficios requeridos en el país (Se enumerarán los oficios, contenidos en una lista, al momento de preguntar. La respuesta debe ser S o N, correspondiente a Sí o No).\n",
        "\n",
        "Luego se pregunta cuántos hijos hay en la familia. Dependiendo de la respuesta, se preguntan datos específicos de los hijos.\n",
        "Los datos que se preguntan de cada hijo son: Sexo (M: Masculino; F: Femenino; N: No binario). Se pregunta la fecha de nacimiento.\n",
        "\n",
        "Un parámetro importante es la edad fértil de las mujeres. Se considera la edad fértil deseable entre 20 y 35 años. Por cada año dentro de la edad fértil, se suma un punto. Por ejemplo: Si hoy es 9/nov/2023, y una de las progenitoras nació el 1/ene/2000, tendrá 23 años cumplidos, por lo cual se considera que le restan (15-(23-20)) = 12. Si tienen una hija, y tiene 5 años, aportará 35 puntos.\n",
        "\n",
        "Cada vez que el sexo de los progenitores sea F, otorgará puntos, de acuerdo con los puntos otorgados en el párrafo anterior.\n",
        "\n",
        "Si los progenitores tienen un oficio deseado (en la lista), proporcionará 8 puntos adicionales. Si tienen postgrado, suman 5 puntos adicionales; título universitario, suma 3 puntos.\n",
        "\n",
        "Cada progenitor suma 6 puntos. Cada hijo suma 8 puntos.\n",
        "\n",
        "Hacer el programa que capture toda esta información, y calcule el puntaje.\n",
        "\n",
        "\n",
        "---\n",
        "\n",
        "---"
      ],
      "metadata": {
        "id": "4d0o9tzWGhFZ"
      }
    },
    {
      "cell_type": "code",
      "source": [
        "import datetime as dt\n",
        "\n",
        "# Lista de oficios deseados\n",
        "oficios_deseados = ['Medico', 'Electricista', 'Profesor de secundaria', 'Maquinista', 'Programador', 'Carpintero','Consultor de gestion', 'Mec. en motores','Enfermero','Chofer']\n",
        "\n",
        "# Función para preguntar y mostrar la lista de oficios deseados\n",
        "def preguntar_oficio():\n",
        "    print(\"Lista de oficios deseados:\")\n",
        "    for i, oficio in enumerate(oficios_deseados, 1):\n",
        "        print(f\"{i}. {oficio}\")\n",
        "    while True:\n",
        "        respuesta = input(\"¿Tiene alguno de los 10 oficios requeridos por el país? (S/N): \").upper()\n",
        "        if respuesta in ['S', 'N']:\n",
        "            return respuesta\n",
        "        else:\n",
        "            print(\"Error de captura. Confirmación de oficio no reconocida. Intente nuevamente (S/N).\")\n",
        "\n",
        "def validar_tipo_familia(tipo_familia):\n",
        "    return tipo_familia in ['M', 'B']\n",
        "\n",
        "def validar_fecha(fecha):\n",
        "    try:\n",
        "        dt.datetime.strptime(fecha, \"%Y-%m-%d\")\n",
        "        return True\n",
        "    except ValueError:\n",
        "        return False\n",
        "\n",
        "def calcular_puntaje(edad_fertil, fecha_nacimiento):\n",
        "    hoy = dt.datetime.now().date()\n",
        "    fecha_nacimiento = dt.datetime.strptime(fecha_nacimiento, \"%Y-%m-%d\").date()\n",
        "    edad = hoy.year - fecha_nacimiento.year - ((hoy.month, hoy.day) < (fecha_nacimiento.month, fecha_nacimiento.day))\n",
        "    return max(0, min(edad_fertil, max(0, edad - 20)))\n",
        "\n",
        "def preguntar_datos_progenitor(numero_progenitor):\n",
        "    sexo_progenitor = input(f\"Ingrese la clave de sexo del progenitor {numero_progenitor} (Masculino (M); Femenino (F); No binario (N):\").upper()\n",
        "    while sexo_progenitor not in ['M', 'F', 'N']:\n",
        "        print(\"Error de captura. Clave de sexo no reconocida. Intente nuevamente.\")\n",
        "        sexo_progenitor = input(f\"Ingrese la clave de sexo del progenitor {numero_progenitor} (Masculino (M); Femenino (F); No binario (N):\").upper()\n",
        "\n",
        "    fecha_nacimiento_progenitor = input(f\"Ingrese la fecha de nacimiento del progenitor {numero_progenitor} (YYYY-MM-DD):\")\n",
        "    while not validar_fecha(fecha_nacimiento_progenitor):\n",
        "        print(\"Error de captura. Formato de fecha incorrecto. Intente nuevamente.\")\n",
        "        fecha_nacimiento_progenitor = input(f\"Ingrese la fecha de nacimiento del progenitor {numero_progenitor} (YYYY-MM-DD):\")\n",
        "\n",
        "    grado_academico_progenitor = input(\"Ingrese el grado académico (Postgraduado (P); Universitario (U); Técnico (T); Ninguno (N):\").upper()\n",
        "    while grado_academico_progenitor not in ['P', 'U', 'T', 'N']:\n",
        "        print(\"Error de captura. grado academico no reconocido. Intente nuevamente.\")\n",
        "        grado_academico_progenitor = input(\"Ingrese el grado académico (Postgraduado (P); Universitario (U); Técnico (T); Ninguno (N):\").upper()\n",
        "\n",
        "    tiene_oficio_progenitor = preguntar_oficio()\n",
        "    return sexo_progenitor, fecha_nacimiento_progenitor, grado_academico_progenitor, tiene_oficio_progenitor\n",
        "\n",
        "def main():\n",
        "    while True:\n",
        "        puntaje_total = 0\n",
        "\n",
        "        tipo_familia = input(\"¿A qué tipo de familia pertenece? Si es Monoparental, responda (M), pero si es Biparental, responda (B):\").upper()\n",
        "        while not validar_tipo_familia(tipo_familia):\n",
        "            print(\"Error de captura. Tipo de familia no reconocida. Intente nuevamente.\")\n",
        "            tipo_familia = input(\"¿A qué tipo de familia pertenece? Si es Monoparental, responda (M), pero si es Biparental, responda (B):\").upper()\n",
        "\n",
        "        # Preguntar datos del primer progenitor\n",
        "        (sexo_progenitor1, fecha_nacimiento_progenitor1, grado_academico_progenitor1, tiene_oficio_progenitor1) = preguntar_datos_progenitor(1)\n",
        "\n",
        "        # Calcular los puntos del primer progenitor.\n",
        "        puntaje_total += calcular_puntaje(35, fecha_nacimiento_progenitor1)\n",
        "        if sexo_progenitor1 == \"F\":\n",
        "            puntaje_total += 2  # Ajuste en el puntaje para el sexo femenino\n",
        "        if tiene_oficio_progenitor1 == \"S\":\n",
        "            puntaje_total += 8\n",
        "        if grado_academico_progenitor1 == \"P\":\n",
        "            puntaje_total += 5\n",
        "        elif grado_academico_progenitor1 == \"U\":\n",
        "            puntaje_total += 3\n",
        "\n",
        "        # Si es biparental, preguntar datos del segundo progenitor.\n",
        "        if tipo_familia == \"B\":\n",
        "            (sexo_progenitor2, fecha_nacimiento_progenitor2, grado_academico_progenitor2, tiene_oficio_progenitor2) = preguntar_datos_progenitor(2)\n",
        "\n",
        "            # Calcular puntos del segundo progenitor.\n",
        "            puntaje_total += calcular_puntaje(35, fecha_nacimiento_progenitor2)\n",
        "            if sexo_progenitor2 == \"F\":\n",
        "                puntaje_total += 2  # Ajuste en el puntaje para el sexo femenino\n",
        "            if tiene_oficio_progenitor2 == \"S\":\n",
        "                puntaje_total += 8\n",
        "            if grado_academico_progenitor2 == \"P\":\n",
        "                puntaje_total += 5\n",
        "            elif grado_academico_progenitor2 == \"U\":\n",
        "                puntaje_total += 3\n",
        "\n",
        "        # Preguntar cantidad de hijos\n",
        "        cantidad_hijos = int(input(\"¿Cuántos hijos tiene en la familia? Si no tiene responda 0 :\"))\n",
        "\n",
        "        # Preguntar datos de cada hijo\n",
        "        for i in range(cantidad_hijos):\n",
        "            sexo_hijo = input(f\"Sexo del hijo {i + 1} (M/F/N): \").upper()\n",
        "\n",
        "            # Validar la entrada del usuario para el sexo del hijo\n",
        "            while sexo_hijo not in ['M', 'F', 'N']:\n",
        "                print(\"Error de captura. Clave de sexo no reconocida. Intenete nuevamente.\")\n",
        "                sexo_hijo = input(f\"Sexo del hijo {i + 1} (M/F/N): \").upper()\n",
        "\n",
        "            fecha_nacimiento_hijo = input(f\"Fecha de nacimiento del hijo {i + 1} (YYYY-MM-DD):\")\n",
        "            while not validar_fecha(fecha_nacimiento_hijo):\n",
        "                print(\"Error de captura. Formato de fecha incorrecto. Intente nuevamente.\")\n",
        "                fecha_nacimiento_hijo = input(f\"Fecha de nacimiento del hijo {i + 1} (YYYY-MM-DD):\")\n",
        "\n",
        "            # Calcular puntos del hijo\n",
        "            puntaje_total += calcular_puntaje(35, fecha_nacimiento_hijo)\n",
        "            if sexo_hijo == \"F\":\n",
        "                puntaje_total += 2  # Ajuste en el puntaje para el sexo femenino\n",
        "\n",
        "        # Mostrar el puntaje total\n",
        "        print(f\"\\nPUNTAJE TOTAL DE LA FAMILIA: {puntaje_total}\")\n",
        "\n",
        "        # Solicitar entrada del usuario para salir o continuar\n",
        "        continuar = input(\"\\nPresione Enter para continuar o escriba 'x' para finalizar: \")\n",
        "        if continuar.lower() == 'x':\n",
        "            break\n",
        "\n",
        "if __name__ == \"__main__\":\n",
        "    main()"
      ],
      "metadata": {
        "id": "iSi9ca2iGho5",
        "colab": {
          "base_uri": "https://localhost:8080/"
        },
        "outputId": "4c8e44ed-4288-44f1-9813-d90ec477ed37"
      },
      "execution_count": 1,
      "outputs": [
        {
          "name": "stdout",
          "output_type": "stream",
          "text": [
            "¿A qué tipo de familia pertenece? Si es Monoparental, responda (M), pero si es Biparental, responda (B):b\n",
            "Ingrese la clave de sexo del progenitor 1 (Masculino (M); Femenino (F); No binario (N):m\n",
            "Ingrese la fecha de nacimiento del progenitor 1 (YYYY-MM-DD):2001-10-10\n",
            "Ingrese el grado académico (Postgraduado (P); Universitario (U); Técnico (T); Ninguno (N):p\n",
            "Lista de oficios deseados:\n",
            "1. Medico\n",
            "2. Electricista\n",
            "3. Profesor de secundaria\n",
            "4. Maquinista\n",
            "5. Programador\n",
            "6. Carpintero\n",
            "7. Consultor de gestion\n",
            "8. Mec. en motores\n",
            "9. Enfermero\n",
            "10. Chofer\n",
            "¿Tiene alguno de los 10 oficios requeridos por el país? (S/N): s\n",
            "Ingrese la clave de sexo del progenitor 2 (Masculino (M); Femenino (F); No binario (N):f\n",
            "Ingrese la fecha de nacimiento del progenitor 2 (YYYY-MM-DD):2002-08-06\n",
            "Ingrese el grado académico (Postgraduado (P); Universitario (U); Técnico (T); Ninguno (N):u\n",
            "Lista de oficios deseados:\n",
            "1. Medico\n",
            "2. Electricista\n",
            "3. Profesor de secundaria\n",
            "4. Maquinista\n",
            "5. Programador\n",
            "6. Carpintero\n",
            "7. Consultor de gestion\n",
            "8. Mec. en motores\n",
            "9. Enfermero\n",
            "10. Chofer\n",
            "¿Tiene alguno de los 10 oficios requeridos por el país? (S/N): s\n",
            "¿Cuántos hijos tiene en la familia? Si no tiene responda 0 :2\n",
            "Sexo del hijo 1 (M/F/N): f\n",
            "Fecha de nacimiento del hijo 1 (YYYY-MM-DD):2020-04-12\n",
            "Sexo del hijo 2 (M/F/N): f\n",
            "Fecha de nacimiento del hijo 2 (YYYY-MM-DD):2021-11-26\n",
            "\n",
            "PUNTAJE TOTAL DE LA FAMILIA: 33\n",
            "\n",
            "Presione Enter para continuar o escriba 'x' para finalizar: x\n"
          ]
        }
      ]
    }
  ]
}